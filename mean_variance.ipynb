{
 "cells": [
  {
   "cell_type": "code",
   "execution_count": 1,
   "id": "089fa327",
   "metadata": {},
   "outputs": [],
   "source": [
    "import pandas as pd\n",
    "import numpy as np\n",
    "import matplotlib as plt\n",
    "import datajoint as dj\n",
    "import os\n",
    "os.chdir('..')\n",
    "import pathlib\n",
    "import re\n",
    "import inspect\n",
    "import importlib\n",
    "import numpy as np\n",
    "import numba\n",
    "from numba import jit\n",
    "import time\n",
    "import random"
   ]
  },
  {
   "cell_type": "code",
   "execution_count": 2,
   "id": "bf943d50",
   "metadata": {},
   "outputs": [],
   "source": [
    "@jit(nopython=True)\n",
    "def meanvar_PSTH(data,bin_width,style='same',return_bootdstrs=False,nboots=1000):\n",
    "    data = data > 0\n",
    "    if style == 'valid':\n",
    "        mean_timevector = np.nan*np.ones((data.shape[1] - bin_width + 1))\n",
    "        vari_timevector = np.nan*np.ones((data.shape[1] - bin_width + 1))\n",
    "        tmp  = np.ones((data.shape[0], data.shape[1] - bin_width + 1))\n",
    "    else:\n",
    "        mean_timevector = np.nan*np.ones((data.shape[1]))\n",
    "        vari_timevector = np.nan*np.ones((data.shape[1]))\n",
    "        tmp  = np.ones((data.shape[0], data.shape[1]))\n",
    "            \n",
    "    for i in range(data.shape[0]):\n",
    "        # compute spike counts in sliding window\n",
    "        tmp[i,:] = np.convolve(data[i,:],np.ones(bin_width,),style)\n",
    "            \n",
    "    vari_timevector = np.var(tmp,axis=0)\n",
    "    mean_timevector = np.mean(tmp, axis=0)\n",
    "    \n",
    "    if return_bootdstrs:\n",
    "        boot_inds = np.random.choice(tmp.shape[0],(tmp.shape[0],nboots))\n",
    "        mean_timevector_booted = np.nan * np.ones((nboots,tmp.shape[1]))\n",
    "        vari_timevector_booted = np.nan * np.ones((nboots,tmp.shape[1]))\n",
    "        for i in range(nboots):\n",
    "            mean_timevector_booted[i,:] = np.mean(tmp[boot_inds[:,i],:],axis=0)\n",
    "            vari_timevector_booted[i,:] = np.var(tmp[boot_inds[:,i],:],axis=0)\n",
    "\n",
    "    else:\n",
    "        mean_timevector_booted = np.array([])\n",
    "        vari_timevector_booted = np.array([])\n",
    "            \n",
    "    #\n",
    "    return mean_timevector, vari_timevector, tmp, mean_timevector_booted, vari_timevector_booted"
   ]
  }
 ],
 "metadata": {
  "kernelspec": {
   "display_name": "Python 3 (ipykernel)",
   "language": "python",
   "name": "python3"
  },
  "language_info": {
   "codemirror_mode": {
    "name": "ipython",
    "version": 3
   },
   "file_extension": ".py",
   "mimetype": "text/x-python",
   "name": "python",
   "nbconvert_exporter": "python",
   "pygments_lexer": "ipython3",
   "version": "3.9.7"
  }
 },
 "nbformat": 4,
 "nbformat_minor": 5
}
